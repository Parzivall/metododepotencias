{
 "cells": [
  {
   "cell_type": "code",
   "execution_count": 1,
   "metadata": {},
   "outputs": [],
   "source": [
    "A = matrix([[1,-1,2],\n",
    "           [-1,1,0],\n",
    "           [-1,0,1]])\n",
    "F=matrix([[3,1],[1,3]])\n",
    "C=matrix([[1, 2,-1],\n",
    "          [1, 0, 1],\n",
    "          [4,-4, 5]])\n",
    "D=matrix([[1,1],\n",
    "    [2,0]])\n",
    "E=matrix([[-1,1],\n",
    "    [2,-2]])\n",
    "G=matrix([[3, -1,0],\n",
    "          [-1, 2, -1],\n",
    "          [0,-1, 3]])"
   ]
  },
  {
   "cell_type": "code",
   "execution_count": 2,
   "metadata": {},
   "outputs": [
    {
     "data": {
      "text/plain": [
       "x^3 - 3*x^2 + 4*x - 2"
      ]
     },
     "execution_count": 2,
     "metadata": {},
     "output_type": "execute_result"
    }
   ],
   "source": [
    "pA=A.charpoly() #comando para hallar el polinomio caracteristico\n",
    "pA"
   ]
  },
  {
   "cell_type": "code",
   "execution_count": 3,
   "metadata": {},
   "outputs": [
    {
     "data": {
      "text/plain": [
       "(x - 1) * (x^2 - 2*x + 2)"
      ]
     },
     "execution_count": 3,
     "metadata": {},
     "output_type": "execute_result"
    }
   ],
   "source": [
    "factor(pA) #comando para factorizar polinomios"
   ]
  },
  {
   "cell_type": "code",
   "execution_count": 4,
   "metadata": {},
   "outputs": [
    {
     "data": {
      "text/plain": [
       "[x == (-I + 1), x == (I + 1), x == 1]"
      ]
     },
     "execution_count": 4,
     "metadata": {},
     "output_type": "execute_result"
    }
   ],
   "source": [
    "solve((x - 1) * (x^2 - 2*x + 2)==0,x)"
   ]
  },
  {
   "cell_type": "code",
   "execution_count": 5,
   "metadata": {},
   "outputs": [
    {
     "data": {
      "text/html": [
       "<html><script type=\"math/tex; mode=display\">\\newcommand{\\Bold}[1]{\\mathbf{#1}}\\left[\\left(1, \\left[\\left(0,\\,1,\\,\\frac{1}{2}\\right)\\right], 1\\right), \\left(1 - 1 \\sqrt{-1}, \\left[\\left(1,\\,-1 \\sqrt{-1},\\,-1 \\sqrt{-1}\\right)\\right], 1\\right), \\left(1 + 1 \\sqrt{-1}, \\left[\\left(1,\\,1 \\sqrt{-1},\\,1 \\sqrt{-1}\\right)\\right], 1\\right)\\right]</script></html>"
      ],
      "text/latex": [
       "$$\\newcommand{\\Bold}[1]{\\mathbf{#1}}\\left[\\left(1, \\left[\\left(0,\\,1,\\,\\frac{1}{2}\\right)\\right], 1\\right), \\left(1 - 1 \\sqrt{-1}, \\left[\\left(1,\\,-1 \\sqrt{-1},\\,-1 \\sqrt{-1}\\right)\\right], 1\\right), \\left(1 + 1 \\sqrt{-1}, \\left[\\left(1,\\,1 \\sqrt{-1},\\,1 \\sqrt{-1}\\right)\\right], 1\\right)\\right]$$"
      ],
      "text/plain": [
       "[(1,\n",
       "  [\n",
       "  (0, 1, 1/2)\n",
       "  ],\n",
       "  1),\n",
       " (1 - 1*I, [(1, -1*I, -1*I)], 1),\n",
       " (1 + 1*I, [(1, 1*I, 1*I)], 1)]"
      ]
     },
     "metadata": {},
     "output_type": "display_data"
    }
   ],
   "source": [
    "pretty_print(A.eigenvectors_right())"
   ]
  },
  {
   "cell_type": "code",
   "execution_count": 6,
   "metadata": {},
   "outputs": [
    {
     "data": {
      "text/plain": [
       "[ 1  2  1]\n",
       "[ 6 -1  0]\n",
       "[-1 -2 -1]"
      ]
     },
     "execution_count": 6,
     "metadata": {},
     "output_type": "execute_result"
    }
   ],
   "source": [
    "B = matrix([[1,2,1],\n",
    "           [6,-1,0],\n",
    "           [-1,-2,-1]])\n",
    "B"
   ]
  },
  {
   "cell_type": "code",
   "execution_count": 7,
   "metadata": {},
   "outputs": [
    {
     "data": {
      "text/plain": [
       "x^3 + x^2 - 12*x"
      ]
     },
     "execution_count": 7,
     "metadata": {},
     "output_type": "execute_result"
    }
   ],
   "source": [
    "pB=B.charpoly() #comando para hallar el polinomio caracteristico\n",
    "pB"
   ]
  },
  {
   "cell_type": "code",
   "execution_count": 8,
   "metadata": {},
   "outputs": [
    {
     "data": {
      "text/plain": [
       "(x - 3) * x * (x + 4)"
      ]
     },
     "execution_count": 8,
     "metadata": {},
     "output_type": "execute_result"
    }
   ],
   "source": [
    "factor(pB) #comando para factorizar polinomios"
   ]
  },
  {
   "cell_type": "code",
   "execution_count": 9,
   "metadata": {},
   "outputs": [
    {
     "data": {
      "text/plain": [
       "[x == -4, x == 0, x == 3]"
      ]
     },
     "execution_count": 9,
     "metadata": {},
     "output_type": "execute_result"
    }
   ],
   "source": [
    "solve((x - 3) * x * (x + 4)==0,x)"
   ]
  },
  {
   "cell_type": "code",
   "execution_count": 10,
   "metadata": {},
   "outputs": [
    {
     "data": {
      "text/html": [
       "<html><script type=\"math/tex; mode=display\">\\newcommand{\\Bold}[1]{\\mathbf{#1}}\\left[\\left(3, \\left[\\left(1,\\,\\frac{3}{2},\\,-1\\right)\\right], 1\\right), \\left(0, \\left[\\left(1,\\,6,\\,-13\\right)\\right], 1\\right), \\left(-4, \\left[\\left(1,\\,-2,\\,-1\\right)\\right], 1\\right)\\right]</script></html>"
      ],
      "text/latex": [
       "$$\\newcommand{\\Bold}[1]{\\mathbf{#1}}\\left[\\left(3, \\left[\\left(1,\\,\\frac{3}{2},\\,-1\\right)\\right], 1\\right), \\left(0, \\left[\\left(1,\\,6,\\,-13\\right)\\right], 1\\right), \\left(-4, \\left[\\left(1,\\,-2,\\,-1\\right)\\right], 1\\right)\\right]$$"
      ],
      "text/plain": [
       "[(3,\n",
       "  [\n",
       "  (1, 3/2, -1)\n",
       "  ],\n",
       "  1),\n",
       " (0,\n",
       "  [\n",
       "  (1, 6, -13)\n",
       "  ],\n",
       "  1),\n",
       " (-4,\n",
       "  [\n",
       "  (1, -2, -1)\n",
       "  ],\n",
       "  1)]"
      ]
     },
     "metadata": {},
     "output_type": "display_data"
    }
   ],
   "source": [
    "pretty_print(B.eigenvectors_right())"
   ]
  },
  {
   "cell_type": "code",
   "execution_count": 11,
   "metadata": {},
   "outputs": [
    {
     "data": {
      "text/plain": [
       "[2 1]\n",
       "[1 2]"
      ]
     },
     "execution_count": 11,
     "metadata": {},
     "output_type": "execute_result"
    }
   ],
   "source": [
    "A1=matrix([[1,1],[0,1],[1,0]])\n",
    "A=(A1.T)*A1\n",
    "A"
   ]
  },
  {
   "cell_type": "code",
   "execution_count": 12,
   "metadata": {},
   "outputs": [
    {
     "data": {
      "text/plain": [
       "x^2 - 4*x + 3"
      ]
     },
     "execution_count": 12,
     "metadata": {},
     "output_type": "execute_result"
    }
   ],
   "source": [
    "A.charpoly() #polinomio caracteristica"
   ]
  },
  {
   "cell_type": "code",
   "execution_count": 13,
   "metadata": {},
   "outputs": [
    {
     "data": {
      "text/plain": [
       "[x == 3, x == 1]"
      ]
     },
     "execution_count": 13,
     "metadata": {},
     "output_type": "execute_result"
    }
   ],
   "source": [
    "solve(x^2 - 4*x + 3 ==0,x)"
   ]
  },
  {
   "cell_type": "code",
   "execution_count": 14,
   "metadata": {},
   "outputs": [
    {
     "data": {
      "text/plain": [
       "[1 1]\n",
       "[0 1]\n",
       "[1 0]"
      ]
     },
     "execution_count": 14,
     "metadata": {},
     "output_type": "execute_result"
    }
   ],
   "source": [
    "M=matrix([[1,1],[0,1],[1,0]])\n",
    "M"
   ]
  },
  {
   "cell_type": "code",
   "execution_count": 15,
   "metadata": {},
   "outputs": [
    {
     "data": {
      "text/html": [
       "<html><script type=\"math/tex; mode=display\">\\newcommand{\\Bold}[1]{\\mathbf{#1}}\\left[p = -i \\, \\sqrt{2} - 1, p = i \\, \\sqrt{2} - 1\\right]</script></html>"
      ],
      "text/latex": [
       "$$\\newcommand{\\Bold}[1]{\\mathbf{#1}}\\left[p = -i \\, \\sqrt{2} - 1, p = i \\, \\sqrt{2} - 1\\right]$$"
      ],
      "text/plain": [
       "[p == -I*sqrt(2) - 1, p == I*sqrt(2) - 1]"
      ]
     },
     "metadata": {},
     "output_type": "display_data"
    }
   ],
   "source": [
    "p=var('p')\n",
    "pretty_print(solve(p^2+2*p+3,p))"
   ]
  },
  {
   "cell_type": "code",
   "execution_count": 16,
   "metadata": {},
   "outputs": [],
   "source": [
    "q=matrix([[2,-1,1],\n",
    "         [1,5,-2],\n",
    "          [0,1,2]])"
   ]
  },
  {
   "cell_type": "code",
   "execution_count": 17,
   "metadata": {},
   "outputs": [
    {
     "data": {
      "text/html": [
       "<html><script type=\"math/tex; mode=display\">\\newcommand{\\Bold}[1]{\\mathbf{#1}}x^{3} - 9x^{2} + 27x - 27</script></html>"
      ],
      "text/latex": [
       "$$\\newcommand{\\Bold}[1]{\\mathbf{#1}}x^{3} - 9x^{2} + 27x - 27$$"
      ],
      "text/plain": [
       "x^3 - 9*x^2 + 27*x - 27"
      ]
     },
     "metadata": {},
     "output_type": "display_data"
    }
   ],
   "source": [
    "Pq=q.charpoly()\n",
    "pretty_print(Pq)"
   ]
  },
  {
   "cell_type": "code",
   "execution_count": 18,
   "metadata": {},
   "outputs": [
    {
     "data": {
      "text/plain": [
       "(x - 3)^3"
      ]
     },
     "execution_count": 18,
     "metadata": {},
     "output_type": "execute_result"
    }
   ],
   "source": [
    "factor(Pq)"
   ]
  },
  {
   "cell_type": "code",
   "execution_count": 19,
   "metadata": {},
   "outputs": [
    {
     "data": {
      "text/plain": [
       "[x == -2, x == 1, x == 2, x == 3]"
      ]
     },
     "execution_count": 19,
     "metadata": {},
     "output_type": "execute_result"
    }
   ],
   "source": [
    "solve((x - 3) * (x - 2) * (x - 1) * (x + 2)==0,x)"
   ]
  },
  {
   "cell_type": "code",
   "execution_count": 26,
   "metadata": {},
   "outputs": [
    {
     "data": {
      "text/plain": [
       "array([ 0.57735027, -0.57735027,  0.57735027])"
      ]
     },
     "execution_count": 26,
     "metadata": {},
     "output_type": "execute_result"
    }
   ],
   "source": [
    "import numpy as np\n",
    "\n",
    "def power_iteration(A, num_simulations: int):\n",
    "    # Elegimos un vector aleatorio\n",
    "    # Es Ortogonal\n",
    "    b_k = np.random.rand(A.shape[1])\n",
    "    #print(b_k)\n",
    "    #print(\"\\n\")\n",
    "    for _ in range(num_simulations):\n",
    "        #print(b_k)\n",
    "        b_k1 = np.dot(A, b_k)\n",
    "        #print(b_k1)\n",
    "        # Calcula la norma\n",
    "        b_k1_norm = np.linalg.norm(b_k1)\n",
    "        #print(b_k1_norm)\n",
    "        # re normalize the vector\n",
    "        b_k = b_k1 / b_k1_norm\n",
    "\n",
    "    return b_k\n",
    "power_iteration(np.array(G), 1000)"
   ]
  },
  {
   "cell_type": "code",
   "execution_count": 21,
   "metadata": {},
   "outputs": [
    {
     "data": {
      "text/html": [
       "<html><script type=\"math/tex; mode=display\">\\newcommand{\\Bold}[1]{\\mathbf{#1}}\\left(\\begin{array}{rrr}\n",
       "3 & -1 & 0 \\\\\n",
       "-1 & 2 & -1 \\\\\n",
       "0 & -1 & 3\n",
       "\\end{array}\\right)</script></html>"
      ],
      "text/latex": [
       "$$\\newcommand{\\Bold}[1]{\\mathbf{#1}}\\left(\\begin{array}{rrr}\n",
       "3 & -1 & 0 \\\\\n",
       "-1 & 2 & -1 \\\\\n",
       "0 & -1 & 3\n",
       "\\end{array}\\right)$$"
      ],
      "text/plain": [
       "[ 3 -1  0]\n",
       "[-1  2 -1]\n",
       "[ 0 -1  3]"
      ]
     },
     "metadata": {},
     "output_type": "display_data"
    }
   ],
   "source": [
    "pretty_print(G)"
   ]
  },
  {
   "cell_type": "code",
   "execution_count": 22,
   "metadata": {},
   "outputs": [
    {
     "data": {
      "text/html": [
       "<html><script type=\"math/tex; mode=display\">\\newcommand{\\Bold}[1]{\\mathbf{#1}}\\left(\\begin{array}{rrr}\n",
       "1 & 2 & -1 \\\\\n",
       "1 & 0 & 1 \\\\\n",
       "4 & -4 & 5\n",
       "\\end{array}\\right)</script></html>"
      ],
      "text/latex": [
       "$$\\newcommand{\\Bold}[1]{\\mathbf{#1}}\\left(\\begin{array}{rrr}\n",
       "1 & 2 & -1 \\\\\n",
       "1 & 0 & 1 \\\\\n",
       "4 & -4 & 5\n",
       "\\end{array}\\right)$$"
      ],
      "text/plain": [
       "[ 1  2 -1]\n",
       "[ 1  0  1]\n",
       "[ 4 -4  5]"
      ]
     },
     "metadata": {},
     "output_type": "display_data"
    }
   ],
   "source": [
    "pretty_print(C)"
   ]
  },
  {
   "cell_type": "code",
   "execution_count": null,
   "metadata": {},
   "outputs": [],
   "source": []
  },
  {
   "cell_type": "code",
   "execution_count": 23,
   "metadata": {},
   "outputs": [
    {
     "name": "stdout",
     "output_type": "stream",
     "text": [
      "Eigenvalue: [1 1 1]\n",
      "Eigenvector: [[ 3 -1  0]\n",
      " [-1  2 -1]\n",
      " [ 0 -1  3]]\n",
      "0  iesima=  [2 0 2]\n",
      " fac  2\n",
      "[1. 0. 1.]  xn\n",
      "1  iesima=  [ 3. -2.  3.]\n",
      " fac  3.0\n",
      "[ 1.         -0.66666667  1.        ]  xn\n",
      "2  iesima=  [ 3.66666667 -3.33333333  3.66666667]\n",
      " fac  3.6666666666666665\n",
      "[ 1.         -0.90909091  1.        ]  xn\n",
      "3  iesima=  [ 3.90909091 -3.81818182  3.90909091]\n",
      " fac  3.909090909090909\n",
      "[ 1.         -0.97674419  1.        ]  xn\n",
      "4  iesima=  [ 3.97674419 -3.95348837  3.97674419]\n",
      " fac  3.9767441860465116\n",
      "[ 1.         -0.99415205  1.        ]  xn\n",
      "5  iesima=  [ 3.99415205 -3.98830409  3.99415205]\n",
      " fac  3.9941520467836256\n",
      "[ 1.         -0.99853587  1.        ]  xn\n",
      "6  iesima=  [ 3.99853587 -3.99707174  3.99853587]\n",
      " fac  3.998535871156662\n",
      "[ 1.         -0.99963383  1.        ]  xn\n",
      "7  iesima=  [ 3.99963383 -3.99926767  3.99963383]\n",
      " fac  3.9996338337605275\n",
      "[ 1.         -0.99990845  1.        ]  xn\n",
      "8  iesima=  [ 3.99990845 -3.9998169   3.99990845]\n",
      " fac  3.9999084500595075\n",
      "[ 1.         -0.99997711  1.        ]  xn\n",
      "9  iesima=  [ 3.99997711 -3.99995422  3.99997711]\n",
      " fac  3.999977111991028\n",
      "[ 1.         -0.99999428  1.        ]  xn\n",
      "10  iesima=  [ 3.99999428 -3.99998856  3.99999428]\n",
      " fac  3.9999942779650155\n",
      "[ 1.         -0.99999857  1.        ]  xn\n",
      "11  iesima=  [ 3.99999857 -3.99999714  3.99999857]\n",
      " fac  3.9999985694892075\n",
      "[ 1.         -0.99999964  1.        ]  xn\n",
      "12  iesima=  [ 3.99999964 -3.99999928  3.99999964]\n",
      " fac  3.999999642372174\n",
      "[ 1.         -0.99999991  1.        ]  xn\n",
      "13  iesima=  [ 3.99999991 -3.99999982  3.99999991]\n",
      " fac  3.9999999105930355\n",
      "[ 1.         -0.99999998  1.        ]  xn\n",
      "14  iesima=  [ 3.99999998 -3.99999996  3.99999998]\n",
      " fac  3.999999977648258\n",
      "[ 1.         -0.99999999  1.        ]  xn\n",
      "15  iesima=  [ 3.99999999 -3.99999999  3.99999999]\n",
      " fac  3.9999999944120646\n",
      "[ 1. -1.  1.]  xn\n",
      "16  iesima=  [ 4. -4.  4.]\n",
      " fac  3.999999998603016\n",
      "[ 1. -1.  1.]  xn\n",
      "17  iesima=  [ 4. -4.  4.]\n",
      " fac  3.999999999650754\n",
      "[ 1. -1.  1.]  xn\n",
      "18  iesima=  [ 4. -4.  4.]\n",
      " fac  3.9999999999126885\n",
      "[ 1. -1.  1.]  xn\n",
      "19  iesima=  [ 4. -4.  4.]\n",
      " fac  3.999999999978172\n",
      "[ 1. -1.  1.]  xn\n",
      "20  iesima=  [ 4. -4.  4.]\n",
      " fac  3.999999999994543\n",
      "[ 1. -1.  1.]  xn\n",
      "21  iesima=  [ 4. -4.  4.]\n",
      " fac  3.9999999999986358\n",
      "[ 1. -1.  1.]  xn\n",
      "22  iesima=  [ 4. -4.  4.]\n",
      " fac  3.999999999999659\n",
      "[ 1. -1.  1.]  xn\n",
      "23  iesima=  [ 4. -4.  4.]\n",
      " fac  3.9999999999999147\n",
      "[ 1. -1.  1.]  xn\n",
      "24  iesima=  [ 4. -4.  4.]\n",
      " fac  3.9999999999999787\n",
      "[ 1. -1.  1.]  xn\n",
      "25  iesima=  [ 4. -4.  4.]\n",
      " fac  3.9999999999999947\n",
      "[ 1. -1.  1.]  xn\n",
      "26  iesima=  [ 4. -4.  4.]\n",
      " fac  3.9999999999999987\n",
      "[ 1. -1.  1.]  xn\n",
      "27  iesima=  [ 4. -4.  4.]\n",
      " fac  3.9999999999999996\n",
      "[ 1. -1.  1.]  xn\n",
      "28  iesima=  [ 4. -4.  4.]\n",
      " fac  4.0\n",
      "[ 1. -1.  1.]  xn\n",
      "29  iesima=  [ 4. -4.  4.]\n",
      " fac  4.0\n",
      "[ 1. -1.  1.]  xn\n",
      "Eigenvalue: 4.0\n",
      "Eigenvector: [ 1. -1.  1.]\n"
     ]
    }
   ],
   "source": [
    "import numpy as np\n",
    "\n",
    "def normalize(x):\n",
    "    fac = abs(x).max() # Saca el valor abosluto máximo del Vector Columna \n",
    "                        #valor propio dominante, autovalor\n",
    "    print(' fac ', fac)\n",
    "    x_n = x /x.max() # se multiplica por la inversa del x.maximo dominante\n",
    "                       # x.max()\n",
    "    print(x_n, \" xn\")\n",
    "    return fac, x_n\n",
    "\n",
    "x = np.array([1,1,1])\n",
    "#x= np.random.rand(3)\n",
    "a = np.array(G)\n",
    "print('Eigenvalue:', x)\n",
    "print('Eigenvector:', a)\n",
    "\n",
    "margen=0.0000000000000000000001\n",
    "i=0\n",
    "\n",
    "#for i in range(20):\n",
    "lambda_1=abs(x).max()\n",
    "while(true):\n",
    "    x = np.dot(a, x)\n",
    "    print(i, ' iesima= ', x)\n",
    "    i=i+1\n",
    "    lambda_backup=lambda_1\n",
    "    lambda_1, x = normalize(x)\n",
    "    if(abs(lambda_backup-lambda_1)<margen):\n",
    "        break\n",
    "print('Eigenvalue:', lambda_1)\n",
    "print('Eigenvector:', x)\n"
   ]
  },
  {
   "cell_type": "code",
   "execution_count": 24,
   "metadata": {},
   "outputs": [
    {
     "name": "stdout",
     "output_type": "stream",
     "text": [
      "[1 1]\n",
      "[2 0]\n"
     ]
    }
   ],
   "source": [
    "print(D)"
   ]
  },
  {
   "cell_type": "code",
   "execution_count": 25,
   "metadata": {},
   "outputs": [
    {
     "data": {
      "text/html": [
       "<html><script type=\"math/tex; mode=display\">\\newcommand{\\Bold}[1]{\\mathbf{#1}}(x - 2) \\cdot (x + 1)</script></html>"
      ],
      "text/latex": [
       "$$\\newcommand{\\Bold}[1]{\\mathbf{#1}}(x - 2) \\cdot (x + 1)$$"
      ],
      "text/plain": [
       "(x - 2) * (x + 1)"
      ]
     },
     "metadata": {},
     "output_type": "display_data"
    }
   ],
   "source": [
    "Pd=D.charpoly()\n",
    "pretty_print(factor(Pd))"
   ]
  },
  {
   "cell_type": "code",
   "execution_count": null,
   "metadata": {},
   "outputs": [],
   "source": []
  }
 ],
 "metadata": {
  "kernelspec": {
   "display_name": "SageMath 9.3",
   "language": "sage",
   "name": "sagemath"
  },
  "language_info": {
   "codemirror_mode": {
    "name": "ipython",
    "version": 3
   },
   "file_extension": ".py",
   "mimetype": "text/x-python",
   "name": "python",
   "nbconvert_exporter": "python",
   "pygments_lexer": "ipython3",
   "version": "3.7.10"
  }
 },
 "nbformat": 4,
 "nbformat_minor": 4
}
